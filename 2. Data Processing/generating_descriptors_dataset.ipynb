{
 "cells": [
  {
   "cell_type": "markdown",
   "metadata": {},
   "source": [
    "## Generating training dataset"
   ]
  },
  {
   "cell_type": "code",
   "execution_count": 10,
   "metadata": {},
   "outputs": [],
   "source": [
    "import pandas as pd\n",
    "from rdkit import Chem\n",
    "from rdkit.Chem import Descriptors\n",
    "\n",
    "# List of cathepsins\n",
    "cathepsins = [\"B\", \"S\", \"D\", \"K\"]"
   ]
  },
  {
   "cell_type": "markdown",
   "metadata": {},
   "source": [
    "### Selecting last two columns"
   ]
  },
  {
   "cell_type": "code",
   "execution_count": 11,
   "metadata": {},
   "outputs": [
    {
     "name": "stdout",
     "output_type": "stream",
     "text": [
      "The last two columns have been saved to 'last_two_columns_B.tsv'.\n",
      "The last two columns have been saved to 'last_two_columns_S.tsv'.\n",
      "The last two columns have been saved to 'last_two_columns_D.tsv'.\n",
      "The last two columns have been saved to 'last_two_columns_K.tsv'.\n"
     ]
    }
   ],
   "source": [
    "for cat in cathepsins:\n",
    "    df = pd.read_csv(f'./Combined_data/cathepsin_{cat}.tsv', sep='\\t')\n",
    "    last_two_columns = df.iloc[:, -2:]  # Select columns using index slicing\n",
    "    last_two_columns.to_csv(f'./Intermediate_data/last_two_columns_{cat}.tsv', sep='\\t', index=False)\n",
    "    print(f\"The last two columns have been saved to 'last_two_columns_{cat}.tsv'.\")\n"
   ]
  },
  {
   "cell_type": "markdown",
   "metadata": {},
   "source": [
    "### Removing nan (if any)"
   ]
  },
  {
   "cell_type": "code",
   "execution_count": 12,
   "metadata": {},
   "outputs": [
    {
     "name": "stdout",
     "output_type": "stream",
     "text": [
      "The cleaned data (last two columns without empty rows) has been saved to 'cleaned_last_two_columns_B.tsv'.\n",
      "The cleaned data (last two columns without empty rows) has been saved to 'cleaned_last_two_columns_S.tsv'.\n",
      "The cleaned data (last two columns without empty rows) has been saved to 'cleaned_last_two_columns_D.tsv'.\n",
      "The cleaned data (last two columns without empty rows) has been saved to 'cleaned_last_two_columns_K.tsv'.\n"
     ]
    }
   ],
   "source": [
    "for cat in cathepsins:\n",
    "    df = pd.read_csv(f'./Intermediate_data/last_two_columns_{cat}.tsv', sep='\\t')\n",
    "\n",
    "\n",
    "    # Select the last two columns\n",
    "    last_two_columns = df.iloc[:, -2:]  # Select columns using index slicing\n",
    "\n",
    "    # Remove rows with any empty (NaN) values\n",
    "    cleaned_data = last_two_columns.dropna()\n",
    "\n",
    "    cleaned_data.to_csv(f'./Intermediate_data/last_two_columns_{cat}.tsv', sep='\\t', index=False)\n",
    "\n",
    "\n",
    "    print(f\"The cleaned data (last two columns without empty rows) has been saved to 'cleaned_last_two_columns_{cat}.tsv'.\")\n"
   ]
  },
  {
   "cell_type": "markdown",
   "metadata": {},
   "source": [
    "### Generating descriptors"
   ]
  },
  {
   "cell_type": "code",
   "execution_count": 13,
   "metadata": {},
   "outputs": [
    {
     "name": "stdout",
     "output_type": "stream",
     "text": [
      "Molecular descriptors have been saved to './Training_data/input_cathepsin_B.csv'.\n",
      "Molecular descriptors have been saved to './Training_data/input_cathepsin_S.csv'.\n",
      "Molecular descriptors have been saved to './Training_data/input_cathepsin_D.csv'.\n"
     ]
    },
    {
     "name": "stderr",
     "output_type": "stream",
     "text": [
      "[17:25:15] Explicit valence for atom # 3 N, 4, is greater than permitted\n"
     ]
    },
    {
     "name": "stdout",
     "output_type": "stream",
     "text": [
      "Molecular descriptors have been saved to './Training_data/input_cathepsin_K.csv'.\n"
     ]
    }
   ],
   "source": [
    "def get_descriptors(smiles):\n",
    "    # Convert SMILES to molecule object\n",
    "    mol = Chem.MolFromSmiles(smiles)\n",
    "    if mol is None:\n",
    "        return [None] * len(Descriptors._descList)  # Return None if SMILES is invalid\n",
    "        \n",
    "    # Generate descriptors\n",
    "    descriptors = [desc[1](mol) for desc in Descriptors._descList]\n",
    "    return descriptors\n",
    "\n",
    "\n",
    "for cat in cathepsins:\n",
    "    # Load the cleaned dataset\n",
    "    df = pd.read_csv(f'./Intermediate_data/last_two_columns_{cat}.tsv', sep='\\t')\n",
    "\n",
    "    # Generate descriptors for each SMILES string in the first column\n",
    "    smiles_list = df.iloc[:, 0]  # Assuming the first column contains SMILES strings\n",
    "    descriptor_data = [get_descriptors(smiles) for smiles in smiles_list]\n",
    "\n",
    "    # Create a DataFrame with descriptors\n",
    "    descriptor_columns = [desc[0] for desc in Descriptors._descList]\n",
    "    descriptor_df = pd.DataFrame(descriptor_data, columns=descriptor_columns)\n",
    "\n",
    "    # Save the descriptors to a CSV file\n",
    "    descriptor_df.to_csv(f'./Training_data/input_cathepsin_{cat}.csv', index=False)\n",
    "\n",
    "\n",
    "    print(f\"Molecular descriptors have been saved to './Training_data/input_cathepsin_{cat}.csv'.\")\n"
   ]
  },
  {
   "cell_type": "markdown",
   "metadata": {},
   "source": [
    "### output file"
   ]
  },
  {
   "cell_type": "code",
   "execution_count": 14,
   "metadata": {},
   "outputs": [
    {
     "name": "stdout",
     "output_type": "stream",
     "text": [
      "The last column has been saved to './Training_data/output_cathepsin_B.csv'.\n",
      "The last column has been saved to './Training_data/output_cathepsin_S.csv'.\n",
      "The last column has been saved to './Training_data/output_cathepsin_D.csv'.\n",
      "The last column has been saved to './Training_data/output_cathepsin_K.csv'.\n"
     ]
    }
   ],
   "source": [
    "\n",
    "for cat in cathepsins:\n",
    "    df = pd.read_csv(f'./Intermediate_data/last_two_columns_{cat}.tsv', sep='\\t')\n",
    "\n",
    "\n",
    "    # Select the last column\n",
    "    last_column = df.iloc[:, -1]  # This selects the last column\n",
    "\n",
    "    last_column.to_csv(f'./Training_data/output_cathepsin_{cat}.csv', index=False, header=True)\n",
    "\n",
    "\n",
    "    print(f\"The last column has been saved to './Training_data/output_cathepsin_{cat}.csv'.\")\n"
   ]
  }
 ],
 "metadata": {
  "kernelspec": {
   "display_name": "ALLCAT",
   "language": "python",
   "name": "python3"
  },
  "language_info": {
   "codemirror_mode": {
    "name": "ipython",
    "version": 3
   },
   "file_extension": ".py",
   "mimetype": "text/x-python",
   "name": "python",
   "nbconvert_exporter": "python",
   "pygments_lexer": "ipython3",
   "version": "3.11.9"
  }
 },
 "nbformat": 4,
 "nbformat_minor": 2
}
