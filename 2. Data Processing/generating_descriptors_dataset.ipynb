{
 "cells": [
  {
   "cell_type": "markdown",
   "metadata": {},
   "source": [
    "### Selecting last two columns"
   ]
  },
  {
   "cell_type": "code",
   "execution_count": 5,
   "metadata": {},
   "outputs": [
    {
     "name": "stdout",
     "output_type": "stream",
     "text": [
      "The last two columns have been saved to 'last_two_columns.tsv'.\n"
     ]
    }
   ],
   "source": [
    "import pandas as pd\n",
    "\n",
    "# Load the TSV file\n",
    "# df = pd.read_csv('./Combined_data/cathepsin_B.tsv', sep='\\t')\n",
    "# df = pd.read_csv('./Combined_data/cathepsin_S.tsv', sep='\\t')\n",
    "# df = pd.read_csv('./Combined_data/cathepsin_D.tsv', sep='\\t')\n",
    "df = pd.read_csv('./Combined_data/cathepsin_K.tsv', sep='\\t')\n",
    "\n",
    "\n",
    "# Select the last two columns\n",
    "last_two_columns = df.iloc[:, -2:]  # Select columns using index slicing\n",
    "\n",
    "# Save the selected columns to a new TSV file\n",
    "# last_two_columns.to_csv('./Intermediate_data/last_two_columns_B.tsv', sep='\\t', index=False)\n",
    "# last_two_columns.to_csv('./Intermediate_data/last_two_columns_S.tsv', sep='\\t', index=False)\n",
    "# last_two_columns.to_csv('./Intermediate_data/last_two_columns_D.tsv', sep='\\t', index=False)\n",
    "last_two_columns.to_csv('./Intermediate_data/last_two_columns_K.tsv', sep='\\t', index=False)\n",
    "\n",
    "\n",
    "print(\"The last two columns have been saved to 'last_two_columns.tsv'.\")\n"
   ]
  },
  {
   "cell_type": "code",
   "execution_count": 9,
   "metadata": {},
   "outputs": [
    {
     "name": "stdout",
     "output_type": "stream",
     "text": [
      "The cleaned data (last two columns without empty rows) has been saved to 'cleaned_last_two_columns.tsv'.\n"
     ]
    }
   ],
   "source": [
    "import pandas as pd\n",
    "\n",
    "# Load the TSV file\n",
    "# df = pd.read_csv('./Intermediate_data/last_two_columns_B.tsv', sep='\\t')\n",
    "# df = pd.read_csv('./Intermediate_data/last_two_columns_S.tsv', sep='\\t')\n",
    "# df = pd.read_csv('./Intermediate_data/last_two_columns_D.tsv', sep='\\t')\n",
    "df = pd.read_csv('./Intermediate_data/last_two_columns_K.tsv', sep='\\t')\n",
    "\n",
    "\n",
    "# Select the last two columns\n",
    "last_two_columns = df.iloc[:, -2:]  # Select columns using index slicing\n",
    "\n",
    "# Remove rows with any empty (NaN) values\n",
    "cleaned_data = last_two_columns.dropna()\n",
    "\n",
    "# Save the cleaned data to a new TSV file\n",
    "# cleaned_data.to_csv('./Intermediate_data/last_two_columns_B.tsv', sep='\\t', index=False)\n",
    "# cleaned_data.to_csv('./Intermediate_data/last_two_columns_S.tsv', sep='\\t', index=False)\n",
    "# cleaned_data.to_csv('./Intermediate_data/last_two_columns_D.tsv', sep='\\t', index=False)\n",
    "cleaned_data.to_csv('./Intermediate_data/last_two_columns_K.tsv', sep='\\t', index=False)\n",
    "\n",
    "\n",
    "print(\"The cleaned data (last two columns without empty rows) has been saved to 'cleaned_last_two_columns.tsv'.\")\n"
   ]
  },
  {
   "cell_type": "markdown",
   "metadata": {},
   "source": [
    "### Generating descriptors"
   ]
  },
  {
   "cell_type": "code",
   "execution_count": 2,
   "metadata": {},
   "outputs": [
    {
     "name": "stderr",
     "output_type": "stream",
     "text": [
      "[22:19:48] Explicit valence for atom # 3 N, 4, is greater than permitted\n"
     ]
    },
    {
     "name": "stdout",
     "output_type": "stream",
     "text": [
      "Molecular descriptors have been saved to 'molecular_descriptors.csv'.\n"
     ]
    }
   ],
   "source": [
    "import pandas as pd\n",
    "from rdkit import Chem\n",
    "from rdkit.Chem import Descriptors\n",
    "\n",
    "# Load the cleaned dataset\n",
    "# df = pd.read_csv('./Intermediate_data/last_two_columns_B.tsv', sep='\\t')\n",
    "# df = pd.read_csv('./Intermediate_data/last_two_columns_S.tsv', sep='\\t')\n",
    "# df = pd.read_csv('./Intermediate_data/last_two_columns_D.tsv', sep='\\t')\n",
    "df = pd.read_csv('./Intermediate_data/last_two_columns_K.tsv', sep='\\t')\n",
    "\n",
    "\n",
    "# Function to calculate descriptors for a SMILES string\n",
    "def get_descriptors(smiles):\n",
    "    # Convert SMILES to molecule object\n",
    "    mol = Chem.MolFromSmiles(smiles)\n",
    "    if mol is None:\n",
    "        return [None] * len(Descriptors._descList)  # Return None if SMILES is invalid\n",
    "    \n",
    "    # Generate descriptors\n",
    "    descriptors = [desc[1](mol) for desc in Descriptors._descList]\n",
    "    return descriptors\n",
    "\n",
    "# Generate descriptors for each SMILES string in the first column\n",
    "smiles_list = df.iloc[:, 0]  # Assuming the first column contains SMILES strings\n",
    "descriptor_data = [get_descriptors(smiles) for smiles in smiles_list]\n",
    "\n",
    "# Create a DataFrame with descriptors\n",
    "descriptor_columns = [desc[0] for desc in Descriptors._descList]\n",
    "descriptor_df = pd.DataFrame(descriptor_data, columns=descriptor_columns)\n",
    "\n",
    "# Save the descriptors to a CSV file\n",
    "# descriptor_df.to_csv('./Training_data/input_cathepsin_B.csv', index=False)\n",
    "# descriptor_df.to_csv('./Training_data/input_cathepsin_S.csv', index=False)\n",
    "# descriptor_df.to_csv('./Training_data/input_cathepsin_D.csv', index=False)\n",
    "descriptor_df.to_csv('./Training_data/input_cathepsin_K.csv', index=False)\n",
    "\n",
    "\n",
    "print(\"Molecular descriptors have been saved to 'molecular_descriptors.csv'.\")\n"
   ]
  },
  {
   "cell_type": "markdown",
   "metadata": {},
   "source": [
    "### output file"
   ]
  },
  {
   "cell_type": "code",
   "execution_count": 17,
   "metadata": {},
   "outputs": [
    {
     "name": "stdout",
     "output_type": "stream",
     "text": [
      "The last column has been saved to 'last_column_output.csv'.\n"
     ]
    }
   ],
   "source": [
    "import pandas as pd\n",
    "\n",
    "# Load the file that has the two columns\n",
    "# df = pd.read_csv('./Intermediate_data/last_two_columns_B.tsv', sep='\\t')\n",
    "# df = pd.read_csv('./Intermediate_data/last_two_columns_S.tsv', sep='\\t')\n",
    "# df = pd.read_csv('./Intermediate_data/last_two_columns_D.tsv', sep='\\t')\n",
    "df = pd.read_csv('./Intermediate_data/last_two_columns_K.tsv', sep='\\t')\n",
    "\n",
    "\n",
    "# Select the last column\n",
    "last_column = df.iloc[:, -1]  # This selects the last column\n",
    "\n",
    "# Save the last column to a new file\n",
    "# last_column.to_csv('./Training_data/output_cathepsin_B.csv', index=False, header=True)\n",
    "# last_column.to_csv('./Training_data/output_cathepsin_S.csv', index=False, header=True)\n",
    "# last_column.to_csv('./Training_data/output_cathepsin_D.csv', index=False, header=True)\n",
    "last_column.to_csv('./Training_data/output_cathepsin_K.csv', index=False, header=True)\n",
    "\n",
    "\n",
    "print(\"The last column has been saved to 'last_column_output.csv'.\")\n"
   ]
  }
 ],
 "metadata": {
  "kernelspec": {
   "display_name": "ALLCAT",
   "language": "python",
   "name": "python3"
  },
  "language_info": {
   "codemirror_mode": {
    "name": "ipython",
    "version": 3
   },
   "file_extension": ".py",
   "mimetype": "text/x-python",
   "name": "python",
   "nbconvert_exporter": "python",
   "pygments_lexer": "ipython3",
   "version": "3.11.9"
  }
 },
 "nbformat": 4,
 "nbformat_minor": 2
}
