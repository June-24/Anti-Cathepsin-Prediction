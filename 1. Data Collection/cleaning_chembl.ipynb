{
 "cells": [
  {
   "cell_type": "markdown",
   "metadata": {},
   "source": [
    "### Columns available"
   ]
  },
  {
   "cell_type": "code",
   "execution_count": 42,
   "metadata": {},
   "outputs": [
    {
     "name": "stdout",
     "output_type": "stream",
     "text": [
      "['Molecule ChEMBL ID', 'Molecule Name', 'Molecule Max Phase', 'Molecular Weight', '#RO5 Violations', 'AlogP', 'Compound Key', 'Smiles', 'Standard Type', 'Standard Relation', 'Standard Value', 'Standard Units', 'pChEMBL Value', 'Data Validity Comment', 'Comment', 'Uo Units', 'Ligand Efficiency BEI', 'Ligand Efficiency LE', 'Ligand Efficiency LLE', 'Ligand Efficiency SEI', 'Potential Duplicate', 'Assay ChEMBL ID', 'Assay Description', 'Assay Type', 'BAO Format ID', 'BAO Label', 'Assay Organism', 'Assay Tissue ChEMBL ID', 'Assay Tissue Name', 'Assay Cell Type', 'Assay Subcellular Fraction', 'Assay Parameters', 'Assay Variant Accession', 'Assay Variant Mutation', 'Target ChEMBL ID', 'Target Name', 'Target Organism', 'Target Type', 'Document ChEMBL ID', 'Source ID', 'Source Description', 'Document Journal', 'Document Year', 'Cell ChEMBL ID', 'Properties', 'Action Type', 'Standard Text Value', 'Value']\n"
     ]
    }
   ],
   "source": [
    "import pandas as pd\n",
    "\n",
    "# Load the combined file\n",
    "# combined_file = \"./chEMBL_initial/catB_chEMBL.tsv\"  # Replace with the path to your combined .tsv file\n",
    "# combined_file = \"./chEMBL_initial/catS_chEMBL.tsv\"  # Replace with the path to your combined .tsv file\n",
    "# combined_file = \"./chEMBL_initial/catD_chEMBL.tsv\"  # Replace with the path to your combined .tsv file\n",
    "combined_file = \"./chEMBL_initial/catK_chEMBL.tsv\"  # Replace with the path to your combined .tsv file\n",
    "\n",
    "df = pd.read_csv(combined_file, sep=\"\\t\")\n",
    "\n",
    "# Get column names as a list\n",
    "column_names = df.columns.tolist()\n",
    "\n",
    "# Print the column names\n",
    "print(column_names)\n"
   ]
  },
  {
   "cell_type": "markdown",
   "metadata": {},
   "source": [
    "### Selecting main columns"
   ]
  },
  {
   "cell_type": "code",
   "execution_count": 43,
   "metadata": {},
   "outputs": [
    {
     "name": "stdout",
     "output_type": "stream",
     "text": [
      "Filtered data saved to 'filtered_data.tsv'.\n"
     ]
    }
   ],
   "source": [
    "import pandas as pd\n",
    "\n",
    "# Load the original dataset\n",
    "# df = pd.read_csv('./chEMBL_initial/catB_chEMBL.tsv', sep='\\t')\n",
    "# df = pd.read_csv('./chEMBL_initial/catS_chEMBL.tsv', sep='\\t')\n",
    "# df = pd.read_csv('./chEMBL_initial/catD_chEMBL.tsv', sep='\\t')\n",
    "df = pd.read_csv('./chEMBL_initial/catK_chEMBL.tsv', sep='\\t')\n",
    "\n",
    "\n",
    "# Select the relevant columns\n",
    "columns_to_keep = [ \n",
    "    'Smiles','Standard Type', 'Standard Relation', 'Standard Value', 'Standard Units', 'Assay Description',\n",
    "    \n",
    "]\n",
    "df_filtered = df[columns_to_keep]\n",
    "\n",
    "# Save the filtered data to a new TSV file\n",
    "# df_filtered.to_csv('./Intermediate_chEMBL/Limited_Columns_data_B.tsv', sep='\\t', index=False)\n",
    "# df_filtered.to_csv('./Intermediate_chEMBL/Limited_Columns_data_S.tsv', sep='\\t', index=False)\n",
    "# df_filtered.to_csv('./Intermediate_chEMBL/Limited_Columns_data_D.tsv', sep='\\t', index=False)\n",
    "df_filtered.to_csv('./Intermediate_chEMBL/Limited_Columns_data_K.tsv', sep='\\t', index=False)\n",
    "\n",
    "\n",
    "print(\"Filtered data saved to 'filtered_data.tsv'.\")\n"
   ]
  },
  {
   "cell_type": "markdown",
   "metadata": {},
   "source": [
    "### Selecting human and cathepsin (x)"
   ]
  },
  {
   "cell_type": "code",
   "execution_count": 44,
   "metadata": {},
   "outputs": [],
   "source": [
    "import pandas as pd\n",
    "\n",
    "# Function to filter rows based on the presence of both \"human\" and \"cathepsin b\" in the Assay Description column\n",
    "def filter_assay_description(input_file, output_file):\n",
    "    # Load the TSV file\n",
    "    df = pd.read_csv(input_file, sep='\\t')\n",
    "\n",
    "    # Filter rows where Assay Description contains both \"human\" and \"cathepsin b\" (case-insensitive)\n",
    "    filtered_df = df[df['Assay Description'].str.contains('human', case=False, na=False) & \n",
    "                     df['Assay Description'].str.contains('cathepsin K', case=False, na=False)]\n",
    "\n",
    "    # Save the filtered dataframe to a new TSV file\n",
    "    filtered_df.to_csv(output_file, sep='\\t', index=False)\n",
    "\n",
    "# Example usage\n",
    "# input_file = './Intermediate_chEMBL/Limited_Columns_data_B.tsv'  # Replace with your input TSV file path\n",
    "# output_file = './Intermediate_chEMBL/human_cathepsin_B_data.tsv'  # Replace with desired output file path\n",
    "\n",
    "# input_file = './Intermediate_chEMBL/Limited_Columns_data_S.tsv'  # Replace with your input TSV file path\n",
    "# output_file = './Intermediate_chEMBL/human_cathepsin_S_data.tsv'  # Replace with desired output file path\n",
    "\n",
    "# input_file = './Intermediate_chEMBL/Limited_Columns_data_D.tsv'  # Replace with your input TSV file path\n",
    "# output_file = './Intermediate_chEMBL/human_cathepsin_D_data.tsv'  # Replace with desired output file path\n",
    "\n",
    "input_file = './Intermediate_chEMBL/Limited_Columns_data_K.tsv'  # Replace with your input TSV file path\n",
    "output_file = './Intermediate_chEMBL/human_cathepsin_K_data.tsv'  # Replace with desired output file path\n",
    "\n",
    "filter_assay_description(input_file, output_file)\n"
   ]
  },
  {
   "cell_type": "markdown",
   "metadata": {},
   "source": [
    "### Converting to bindingdb format"
   ]
  },
  {
   "cell_type": "code",
   "execution_count": 45,
   "metadata": {},
   "outputs": [],
   "source": [
    "import pandas as pd\n",
    "import re\n",
    "\n",
    "# Function to clean and convert the data\n",
    "def convert_data_without_potency(input_file, output_file):\n",
    "    # Load the TSV file\n",
    "    df = pd.read_csv(input_file, sep='\\t')\n",
    "    \n",
    "    # Filter out rows where 'Assay Description' doesn't contain 'human' and 'cathepsin b'\n",
    "    df = df[df['Assay Description'].str.contains('human', case=False, na=False) & \n",
    "            df['Assay Description'].str.contains('cathepsin K', case=False, na=False)]\n",
    "    \n",
    "    # Extract target (e.g., 'Cathepsin B') from Assay Description\n",
    "    df['Target Name'] = df['Assay Description'].apply(lambda x: re.search(r'cathepsin K', x, re.IGNORECASE).group(0).title())\n",
    "    \n",
    "    # Combine IC50 values with <, >, or = (as in the 'Standard Relation' column)\n",
    "    df['Value'] = df['Standard Relation'] \n",
    "    \n",
    "    df['IC50 (nM)'] = df['Standard Value'].astype(str)\n",
    "    \n",
    "    # Add Target Source Organism (fixed value \"Homo sapiens\")\n",
    "    df['Target Source Organism According to Curator or DataSource'] = 'Homo sapiens'\n",
    "    \n",
    "    # Rename columns\n",
    "    df['Ligand SMILES'] = df['Smiles']\n",
    "    \n",
    "    # Select relevant columns and rearrange\n",
    "    final_df = df[['Target Name', 'IC50 (nM)','Value', 'Target Source Organism According to Curator or DataSource', 'Ligand SMILES']]\n",
    "    \n",
    "    # Save the final result to a new TSV file\n",
    "    final_df.to_csv(output_file, sep='\\t', index=False)\n",
    "\n",
    "# Example usage\n",
    "# input_file = './Intermediate_chEMBL/human_cathepsin_B_data.tsv'  # Replace with your input file path\n",
    "# output_file = './Intermediate_chEMBL/converted_assay_data_without_potency_B.tsv'  # Replace with your desired output file path\n",
    "\n",
    "# input_file = './Intermediate_chEMBL/human_cathepsin_S_data.tsv'  # Replace with your input file path\n",
    "# output_file = './Intermediate_chEMBL/converted_assay_data_without_potency_S.tsv'  # Replace with your desired output file path\n",
    "\n",
    "# input_file = './Intermediate_chEMBL/human_cathepsin_D_data.tsv'  # Replace with your input file path\n",
    "# output_file = './Intermediate_chEMBL/converted_assay_data_without_potency_D.tsv'  # Replace with your desired output file path\n",
    "\n",
    "input_file = './Intermediate_chEMBL/human_cathepsin_K_data.tsv'  # Replace with your input file path\n",
    "output_file = './Intermediate_chEMBL/converted_assay_data_without_potency_K.tsv'  # Replace with your desired output file path\n",
    "\n",
    "convert_data_without_potency(input_file, output_file)\n"
   ]
  },
  {
   "cell_type": "markdown",
   "metadata": {},
   "source": [
    "### removing nan"
   ]
  },
  {
   "cell_type": "code",
   "execution_count": 46,
   "metadata": {},
   "outputs": [],
   "source": [
    "import pandas as pd\n",
    "\n",
    "# Load the TSV file into a DataFrame\n",
    "# file_path = \"./Intermediate_chEMBL/converted_assay_data_without_potency_B.tsv\"  # Replace with your file path\n",
    "# file_path = \"./Intermediate_chEMBL/converted_assay_data_without_potency_S.tsv\"  # Replace with your file path\n",
    "# file_path = \"./Intermediate_chEMBL/converted_assay_data_without_potency_D.tsv\"  # Replace with your file path\n",
    "file_path = \"./Intermediate_chEMBL/converted_assay_data_without_potency_K.tsv\"  # Replace with your file path\n",
    "\n",
    "data = pd.read_csv(file_path, sep=\"\\t\")\n",
    "\n",
    "# Remove rows where 'IC50 (nM)' has NaN values\n",
    "data = data.dropna(subset=['IC50 (nM)'])\n",
    "data.to_csv(file_path,sep='\\t', index=False)"
   ]
  },
  {
   "cell_type": "markdown",
   "metadata": {},
   "source": [
    "### Balancing values +-0.1"
   ]
  },
  {
   "cell_type": "code",
   "execution_count": 47,
   "metadata": {},
   "outputs": [
    {
     "name": "stdout",
     "output_type": "stream",
     "text": [
      "Updated file saved to ./Intermediate_chEMBL/updated_after_adding_substraction_K.tsv\n"
     ]
    }
   ],
   "source": [
    "import pandas as pd\n",
    "\n",
    "# Load the TSV file into a DataFrame\n",
    "# file_path = './Intermediate_chEMBL/converted_assay_data_without_potency_B.tsv'\n",
    "# file_path = './Intermediate_chEMBL/converted_assay_data_without_potency_S.tsv'\n",
    "# file_path = './Intermediate_chEMBL/converted_assay_data_without_potency_D.tsv'\n",
    "file_path = './Intermediate_chEMBL/converted_assay_data_without_potency_K.tsv'\n",
    "\n",
    "df = pd.read_csv(file_path, sep='\\t')\n",
    "\n",
    "# Modify the IC50 column based on the Value column\n",
    "def modify_ic50(row):\n",
    "    if row['Value'] == \"'='\":\n",
    "        return row['IC50 (nM)']  # Keep the same\n",
    "    elif row['Value'] == \"'>'\":\n",
    "        return row['IC50 (nM)'] + 0.1  # Add 0.1\n",
    "    else:  # Handle other cases (assume '<')\n",
    "        return row['IC50 (nM)'] - 0.1  # Subtract 0.1\n",
    "\n",
    "# Apply the function to the DataFrame\n",
    "df['IC50 (nM)'] = df.apply(modify_ic50, axis=1)\n",
    "\n",
    "# Save the updated DataFrame to a new TSV file\n",
    "# output_file_path = './Intermediate_chEMBL/updated_after_adding_substraction_B.tsv'\n",
    "# output_file_path = './Intermediate_chEMBL/updated_after_adding_substraction_S.tsv'\n",
    "# output_file_path = './Intermediate_chEMBL/updated_after_adding_substraction_D.tsv'\n",
    "output_file_path = './Intermediate_chEMBL/updated_after_adding_substraction_K.tsv'\n",
    "\n",
    "df.to_csv(output_file_path, sep='\\t', index=False)\n",
    "\n",
    "print(f\"Updated file saved to {output_file_path}\")\n"
   ]
  },
  {
   "cell_type": "markdown",
   "metadata": {},
   "source": [
    "### removing values column (not needed now)"
   ]
  },
  {
   "cell_type": "code",
   "execution_count": 48,
   "metadata": {},
   "outputs": [
    {
     "name": "stdout",
     "output_type": "stream",
     "text": [
      "File saved after removing 'Value' column: ./Intermediate_chEMBL/final_without_potency_K.tsv\n"
     ]
    }
   ],
   "source": [
    "import pandas as pd\n",
    "\n",
    "# Load the TSV file into a DataFrame\n",
    "# file_path = './Intermediate_chEMBL/updated_after_adding_substraction_B.tsv'\n",
    "# file_path = './Intermediate_chEMBL/updated_after_adding_substraction_S.tsv'\n",
    "# file_path = './Intermediate_chEMBL/updated_after_adding_substraction_D.tsv'\n",
    "file_path = './Intermediate_chEMBL/updated_after_adding_substraction_K.tsv'\n",
    "\n",
    "df = pd.read_csv(file_path, sep='\\t')\n",
    "\n",
    "# Remove the 'Value' column\n",
    "df = df.drop(columns=['Value'])\n",
    "\n",
    "# Save the updated DataFrame to a new TSV file\n",
    "# output_file_path = './Intermediate_chEMBL/final_without_potency_B.tsv'\n",
    "# output_file_path = './Intermediate_chEMBL/final_without_potency_S.tsv'\n",
    "# output_file_path = './Intermediate_chEMBL/final_without_potency_D.tsv'\n",
    "output_file_path = './Intermediate_chEMBL/final_without_potency_K.tsv'\n",
    "\n",
    "df.to_csv(output_file_path, sep='\\t', index=False)\n",
    "\n",
    "print(f\"File saved after removing 'Value' column: {output_file_path}\")\n"
   ]
  },
  {
   "cell_type": "markdown",
   "metadata": {},
   "source": [
    "### adding potency"
   ]
  },
  {
   "cell_type": "code",
   "execution_count": 49,
   "metadata": {},
   "outputs": [],
   "source": [
    "# Function to categorize based on IC50 values (output as numeric potency)\n",
    "def categorize_potency(ic50):\n",
    "    if ic50 < 1:\n",
    "        return \"3\"  # Potent\n",
    "    elif 1 <= ic50 < 100:\n",
    "        return \"2\"  # Active\n",
    "    elif 100 <= ic50 < 1000:\n",
    "        return \"1\"  # Intermediate\n",
    "    elif ic50 >= 1000:\n",
    "        return \"0\"  # Inactive\n",
    "    else:\n",
    "        return \"-1\"  # Unknown\n",
    "\n",
    "def update_ic50_in_tsv(input_file, output_file):\n",
    "    # Read the TSV file\n",
    "    df = pd.read_csv(input_file, sep='\\t')\n",
    "\n",
    "    # Add Potency column based on updated IC50 values\n",
    "    df['Potency'] = df['IC50 (nM)'].apply(categorize_potency)\n",
    "\n",
    "    # Save the updated dataframe to a new TSV file\n",
    "    df.to_csv(output_file, sep='\\t', index=False)\n",
    "\n",
    "# Example usage\n",
    "# input_file = './Intermediate_chEMBL/final_without_potency_B.tsv'  # Replace with your input TSV file path\n",
    "# output_file = './Intermediate_chEMBL/final_chembl_B.tsv'  # Replace with desired output file path\n",
    "\n",
    "# input_file = './Intermediate_chEMBL/final_without_potency_S.tsv'  # Replace with your input TSV file path\n",
    "# output_file = './Intermediate_chEMBL/final_chembl_S.tsv'  # Replace with desired output file path\n",
    "\n",
    "# input_file = './Intermediate_chEMBL/final_without_potency_D.tsv'  # Replace with your input TSV file path\n",
    "# output_file = './Intermediate_chEMBL/final_chembl_D.tsv'  # Replace with desired output file path\n",
    "\n",
    "input_file = './Intermediate_chEMBL/final_without_potency_K.tsv'  # Replace with your input TSV file path\n",
    "output_file = './Intermediate_chEMBL/final_chembl_K.tsv'  # Replace with desired output file path\n",
    "\n",
    "update_ic50_in_tsv(input_file, output_file)\n"
   ]
  },
  {
   "cell_type": "code",
   "execution_count": 50,
   "metadata": {},
   "outputs": [
    {
     "data": {
      "image/png": "[encoded data removed]",
      "text/plain": [
       "<Figure size 800x600 with 1 Axes>"
      ]
     },
     "metadata": {},
     "output_type": "display_data"
    }
   ],
   "source": [
    "import pandas as pd\n",
    "import matplotlib.pyplot as plt\n",
    "\n",
    "# Function to categorize based on IC50 values (output as potency categories)\n",
    "def categorize_potency(ic50):\n",
    "    if ic50 < 1:\n",
    "        return \"Potent\"\n",
    "    elif 1 <= ic50 < 100:\n",
    "        return \"Active\"\n",
    "    elif 100 <= ic50 < 1000:\n",
    "        return \"Intermediate\"\n",
    "    elif ic50 >= 1000:\n",
    "        return \"Inactive\"\n",
    "    else:\n",
    "        return \"Unknown\"\n",
    "\n",
    "# Load data from TSV file\n",
    "# input_file = './Intermediate_chEMBL/final_chembl_B.tsv'  # Replace with your input TSV file path\n",
    "# input_file = './Intermediate_chEMBL/final_chembl_S.tsv'  # Replace with your input TSV file path\n",
    "# input_file = './Intermediate_chEMBL/final_chembl_D.tsv'  # Replace with your input TSV file path\n",
    "input_file = './Intermediate_chEMBL/final_chembl_K.tsv'  # Replace with your input TSV file path\n",
    "\n",
    "df = pd.read_csv(input_file, sep='\\t')\n",
    "\n",
    "# Add Potency column based on IC50 values\n",
    "df['Potency'] = df['IC50 (nM)'].apply(lambda x: categorize_potency(float(x)))\n",
    "\n",
    "# Count the occurrences of each category\n",
    "potency_counts = df['Potency'].value_counts()\n",
    "\n",
    "# Plotting the count of potency categories\n",
    "plt.figure(figsize=(8, 6))\n",
    "potency_counts.plot(kind='bar', color='skyblue', edgecolor='black')\n",
    "plt.title('Count of Potency Categories', fontsize=14)\n",
    "plt.xlabel('Potency Category', fontsize=12)\n",
    "plt.ylabel('Count', fontsize=12)\n",
    "plt.xticks(rotation=45)\n",
    "plt.tight_layout()\n",
    "plt.show()\n"
   ]
  }
 ],
 "metadata": {
  "kernelspec": {
   "display_name": "ALLCAT",
   "language": "python",
   "name": "python3"
  },
  "language_info": {
   "codemirror_mode": {
    "name": "ipython",
    "version": 3
   },
   "file_extension": ".py",
   "mimetype": "text/x-python",
   "name": "python",
   "nbconvert_exporter": "python",
   "pygments_lexer": "ipython3",
   "version": "3.11.9"
  }
 },
 "nbformat": 4,
 "nbformat_minor": 2
}
