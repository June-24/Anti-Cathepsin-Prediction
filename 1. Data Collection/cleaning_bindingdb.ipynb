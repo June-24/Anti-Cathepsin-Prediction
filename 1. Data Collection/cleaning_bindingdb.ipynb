{
 "cells": [
  {
   "cell_type": "markdown",
   "metadata": {},
   "source": [
    "### First cleaning cathepsin B"
   ]
  },
  {
   "cell_type": "markdown",
   "metadata": {},
   "source": [
    "### removing unnecessary columns"
   ]
  },
  {
   "cell_type": "code",
   "execution_count": 30,
   "metadata": {},
   "outputs": [],
   "source": [
    "import pandas as pd\n",
    "\n",
    "# Load the original dataset\n",
    "# df = pd.read_csv('./bindingdb_initial/catB_bindingdb.tsv', sep='\\t')\n",
    "# df = pd.read_csv('./bindingdb_initial/catS_bindingdb.tsv', sep='\\t')\n",
    "# df = pd.read_csv('./bindingdb_initial/catD_bindingdb.tsv', sep='\\t')\n",
    "df = pd.read_csv('./bindingdb_initial/catK_bindingdb.tsv', sep='\\t')\n",
    "\n",
    "\n",
    "# Select the relevant columns\n",
    "columns_to_keep = [ \n",
    "    'Target Name','IC50 (nM)','Target Source Organism According to Curator or DataSource',\n",
    "    'Ligand SMILES'\n",
    "]\n",
    "df_filtered = df[columns_to_keep]\n",
    "\n",
    "# Save the filtered data to a new TSV file\n",
    "# df_filtered.to_csv('./Intermediate_bindingdb/Limited_Columns_data_B.tsv', sep='\\t', index=False)\n",
    "# df_filtered.to_csv('./Intermediate_bindingdb/Limited_Columns_data_S.tsv', sep='\\t', index=False)\n",
    "# df_filtered.to_csv('./Intermediate_bindingdb/Limited_Columns_data_D.tsv', sep='\\t', index=False)\n",
    "df_filtered.to_csv('./Intermediate_bindingdb/Limited_Columns_data_K.tsv', sep='\\t', index=False)\n",
    "\n",
    "\n",
    "\n"
   ]
  },
  {
   "cell_type": "markdown",
   "metadata": {},
   "source": [
    "### Removing Missing IC50 values"
   ]
  },
  {
   "cell_type": "code",
   "execution_count": 31,
   "metadata": {},
   "outputs": [
    {
     "name": "stdout",
     "output_type": "stream",
     "text": [
      "Rows with missing IC50 values: 891\n",
      "Rows with non-missing IC50 values: 2114\n"
     ]
    }
   ],
   "source": [
    "import pandas as pd\n",
    "\n",
    "# Load the dataset\n",
    "# df = pd.read_csv('./Intermediate_bindingdb/Limited_Columns_data_B.tsv', sep='\\t')\n",
    "# df = pd.read_csv('./Intermediate_bindingdb/Limited_Columns_data_S.tsv', sep='\\t')\n",
    "# df = pd.read_csv('./Intermediate_bindingdb/Limited_Columns_data_D.tsv', sep='\\t')\n",
    "df = pd.read_csv('./Intermediate_bindingdb/Limited_Columns_data_K.tsv', sep='\\t')\n",
    "\n",
    "\n",
    "# Check for missing values in 'IC50 (nM)' column\n",
    "missing_ic50 = df['IC50 (nM)'].isna().sum()  # Count rows with missing IC50 values\n",
    "non_missing_ic50 = df['IC50 (nM)'].notna().sum()  # Count rows with non-missing IC50 values\n",
    "\n",
    "print(f\"Rows with missing IC50 values: {missing_ic50}\")\n",
    "print(f\"Rows with non-missing IC50 values: {non_missing_ic50}\")\n"
   ]
  },
  {
   "cell_type": "code",
   "execution_count": 32,
   "metadata": {},
   "outputs": [
    {
     "name": "stdout",
     "output_type": "stream",
     "text": [
      "Rows with missing IC50 values removed. Now 2114 rows have IC50 values.\n"
     ]
    }
   ],
   "source": [
    "import pandas as pd\n",
    "\n",
    "# Load the dataset\n",
    "# df = pd.read_csv('./Intermediate_bindingdb/Limited_Columns_data_B.tsv', sep='\\t')\n",
    "# df = pd.read_csv('./Intermediate_bindingdb/Limited_Columns_data_S.tsv', sep='\\t')\n",
    "# df = pd.read_csv('./Intermediate_bindingdb/Limited_Columns_data_D.tsv', sep='\\t')\n",
    "df = pd.read_csv('./Intermediate_bindingdb/Limited_Columns_data_K.tsv', sep='\\t')\n",
    "\n",
    "\n",
    "# Remove rows with missing values in 'IC50 (nM)' column\n",
    "df_clean = df.dropna(subset=['IC50 (nM)'])\n",
    "\n",
    "# Optionally, save the cleaned data to a new file\n",
    "# df_clean.to_csv('./Intermediate_bindingdb/IC50_cleaned_B.tsv', sep='\\t', index=False)\n",
    "# df_clean.to_csv('./Intermediate_bindingdb/IC50_cleaned_S.tsv', sep='\\t', index=False)\n",
    "# df_clean.to_csv('./Intermediate_bindingdb/IC50_cleaned_D.tsv', sep='\\t', index=False)\n",
    "df_clean.to_csv('./Intermediate_bindingdb/IC50_cleaned_K.tsv', sep='\\t', index=False)\n",
    "\n",
    "\n",
    "# Check the number of rows removed\n",
    "missing_ic50 = df['IC50 (nM)'].isna().sum()  # Rows still missing IC50\n",
    "non_missing_ic50 = df_clean['IC50 (nM)'].notna().sum()  # Rows with non-missing IC50\n",
    "\n",
    "print(f\"Rows with missing IC50 values removed. Now {non_missing_ic50} rows have IC50 values.\")\n"
   ]
  },
  {
   "cell_type": "markdown",
   "metadata": {},
   "source": [
    "### Selecting only HOMO Sapiens data"
   ]
  },
  {
   "cell_type": "code",
   "execution_count": 33,
   "metadata": {},
   "outputs": [
    {
     "name": "stdout",
     "output_type": "stream",
     "text": [
      "Rows with non-Homo sapiens organisms removed. The new file is saved as 'homo_sapiens_only_data.tsv'.\n"
     ]
    }
   ],
   "source": [
    "# removing all non human ones\n",
    "import pandas as pd\n",
    "\n",
    "# Load the dataset\n",
    "# df = pd.read_csv('./Intermediate_bindingdb/IC50_cleaned_B.tsv', sep='\\t')\n",
    "# df = pd.read_csv('./Intermediate_bindingdb/IC50_cleaned_S.tsv', sep='\\t')\n",
    "# df = pd.read_csv('./Intermediate_bindingdb/IC50_cleaned_D.tsv', sep='\\t')\n",
    "df = pd.read_csv('./Intermediate_bindingdb/IC50_cleaned_K.tsv', sep='\\t')\n",
    "\n",
    "\n",
    "# Filter the dataset for rows where the target organism is Homo sapiens\n",
    "df_homo_sapiens = df[df['Target Source Organism According to Curator or DataSource'] == 'Homo sapiens']\n",
    "\n",
    "# Save the filtered DataFrame to a new file\n",
    "# df_homo_sapiens.to_csv('./Intermediate_bindingdb/homo_sapiens_only_data_B.tsv', sep='\\t', index=False)\n",
    "# df_homo_sapiens.to_csv('./Intermediate_bindingdb/homo_sapiens_only_data_S.tsv', sep='\\t', index=False)\n",
    "# df_homo_sapiens.to_csv('./Intermediate_bindingdb/homo_sapiens_only_data_D.tsv', sep='\\t', index=False)\n",
    "df_homo_sapiens.to_csv('./Intermediate_bindingdb/homo_sapiens_only_data_K.tsv', sep='\\t', index=False)\n",
    "\n",
    "\n",
    "print(\"Rows with non-Homo sapiens organisms removed. The new file is saved as 'homo_sapiens_only_data.tsv'.\")\n"
   ]
  },
  {
   "cell_type": "markdown",
   "metadata": {},
   "source": [
    "### Selecting unique ligands"
   ]
  },
  {
   "cell_type": "code",
   "execution_count": 34,
   "metadata": {},
   "outputs": [
    {
     "name": "stdout",
     "output_type": "stream",
     "text": [
      "Ligand SMILES\n",
      "O=C(NC1CCN(C1)C#N)OCc1ccccc1                                                        8\n",
      "CC(C)(F)C[C@H](N[C@@H](c1ccc(cc1)-c1ccc(cc1)S(C)(=O)=O)C(F)(F)F)C(=O)NC1(CC1)C#N    8\n",
      "O=C(NCC1CN(C1)C#N)C1CCCCC1                                                          7\n",
      "N#CN1CCCC1                                                                          7\n",
      "N#CN1Cc2cc3ccccc3nc2C1                                                              7\n",
      "                                                                                   ..\n",
      "O[C@H]1O[C@H]([C@H](O)[C@@H]1O)n1cnc2c(NC3CCCCC3)nc(nc12)C#N                        1\n",
      "CCCC[C@H](NC(=O)OCC1(CC)COC1)C(=O)C(=O)Nc1cc(n[nH]1)-c1ccccc1                       1\n",
      "CC(C)(C)c1csc(n1)N1CCN(CC1)C(=O)[C@@H]1CCCC[C@H]1C(=O)NC1(CC1)C#N                   1\n",
      "FC(F)(F)c1cccc(c1)-c1cc(CCCNCc2nnn[nH]2)nc(n1)C#N                                   1\n",
      "COC(=O)NCCCC[C@H](NC(=O)OC(C)(C)C)C=O                                               1\n",
      "Name: count, Length: 1674, dtype: int64\n"
     ]
    }
   ],
   "source": [
    "import pandas as pd\n",
    "\n",
    "# Load the dataset\n",
    "# df = pd.read_csv('./Intermediate_Bindingdb/homo_sapiens_only_data_B.tsv', sep='\\t')\n",
    "# df = pd.read_csv('./Intermediate_Bindingdb/homo_sapiens_only_data_S.tsv', sep='\\t')\n",
    "# df = pd.read_csv('./Intermediate_Bindingdb/homo_sapiens_only_data_D.tsv', sep='\\t')\n",
    "df = pd.read_csv('./Intermediate_Bindingdb/homo_sapiens_only_data_K.tsv', sep='\\t')\n",
    "\n",
    "\n",
    "# Get the count of unique values in a specific column\n",
    "column_name = 'Ligand SMILES'  # Replace with your column name\n",
    "unique_counts = df[column_name].value_counts()\n",
    "\n",
    "# Print the counts of unique values\n",
    "print(unique_counts)\n"
   ]
  },
  {
   "cell_type": "code",
   "execution_count": 35,
   "metadata": {},
   "outputs": [
    {
     "name": "stdout",
     "output_type": "stream",
     "text": [
      "The new file with unique ligands is saved as 'unique_ligands_data.tsv'.\n"
     ]
    }
   ],
   "source": [
    "import pandas as pd\n",
    "\n",
    "# Load the dataset\n",
    "# df = pd.read_csv('./Intermediate_bindingdb/homo_sapiens_only_data_B.tsv', sep='\\t')\n",
    "# df = pd.read_csv('./Intermediate_bindingdb/homo_sapiens_only_data_S.tsv', sep='\\t')\n",
    "# df = pd.read_csv('./Intermediate_bindingdb/homo_sapiens_only_data_D.tsv', sep='\\t')\n",
    "df = pd.read_csv('./Intermediate_bindingdb/homo_sapiens_only_data_K.tsv', sep='\\t')\n",
    "\n",
    "# Drop duplicate rows based on the 'Ligand SMILES' column (or use another unique identifier)\n",
    "df_unique_ligands = df.drop_duplicates(subset='Ligand SMILES')  # Replace 'Ligand SMILES' with the desired column\n",
    "\n",
    "# Save the dataset with unique ligands to a new file\n",
    "# df_unique_ligands.to_csv('./Intermediate_bindingdb/unique_ligands_data_B.tsv', sep='\\t', index=False)\n",
    "# df_unique_ligands.to_csv('./Intermediate_bindingdb/unique_ligands_data_S.tsv', sep='\\t', index=False)\n",
    "# df_unique_ligands.to_csv('./Intermediate_bindingdb/unique_ligands_data_D.tsv', sep='\\t', index=False)\n",
    "df_unique_ligands.to_csv('./Intermediate_bindingdb/unique_ligands_data_K.tsv', sep='\\t', index=False)\n",
    "\n",
    "print(\"The new file with unique ligands is saved as 'unique_ligands_data.tsv'.\")\n"
   ]
  },
  {
   "cell_type": "code",
   "execution_count": 36,
   "metadata": {},
   "outputs": [
    {
     "name": "stdout",
     "output_type": "stream",
     "text": [
      "Ligand SMILES\n",
      "CC(C)CC(NC(=O)c1cccc(c1)-c1ccc(cc1)S(C)(=O)=O)C(=O)N(C)N(C)C#N                         1\n",
      "COc1cccc(CCNC(=O)c2cnc(nc2NCC(C)(C)C)C#N)c1                                            1\n",
      "COc1ccc(CCNC(=O)c2cnc(nc2NCC(C)(C)C)C#N)cc1                                            1\n",
      "CC(C)(C)CNc1nc(ncc1C(=O)NCCc1cccc(OCCn2ccnc2)c1)C#N                                    1\n",
      "CC(C)(C)CNc1nc(ncc1C(=O)NCCc1ccc(OCCn2ccnc2)cc1)C#N                                    1\n",
      "                                                                                      ..\n",
      "CCCC[C@H](NC(=O)O[C@H](Cn1cc(cn1)-c1ccc(cc1)C(F)(F)F)C(C)(C)C)C(=O)C(=O)Nc1ccn[nH]1    1\n",
      "CCCC[C@H](NC(=O)O[C@H](Cc1nnc(o1)-c1ccc(cc1)C(F)(F)F)C(C)(C)C)C(=O)C(=O)Nc1ccn[nH]1    1\n",
      "COc1ccc(CCNC(=O)c2cnc(nc2NCC(C)(C)C)C#N)cc1OCCn1ccnc1                                  1\n",
      "CN1CCN(CC1)c1ccc(CCNC(=O)c2cnc(nc2NC2CCCCC2)C#N)cc1                                    1\n",
      "C[C@@H](CC1CCCCC1)OC(=O)C1CCN1C#N                                                      1\n",
      "Name: count, Length: 1674, dtype: int64\n"
     ]
    }
   ],
   "source": [
    "import pandas as pd\n",
    "\n",
    "# Load the dataset\n",
    "# df = pd.read_csv('./Intermediate_bindingdb/unique_ligands_data_B.tsv', sep='\\t')\n",
    "# df = pd.read_csv('./Intermediate_bindingdb/unique_ligands_data_S.tsv', sep='\\t')\n",
    "# df = pd.read_csv('./Intermediate_bindingdb/unique_ligands_data_D.tsv', sep='\\t')\n",
    "df = pd.read_csv('./Intermediate_bindingdb/unique_ligands_data_K.tsv', sep='\\t')\n",
    "\n",
    "\n",
    "# Get the count of unique values in a specific column\n",
    "column_name = 'Ligand SMILES'  # Replace with your column name\n",
    "unique_counts = df[column_name].value_counts()\n",
    "\n",
    "# Print the counts of unique values\n",
    "print(unique_counts)\n"
   ]
  },
  {
   "cell_type": "markdown",
   "metadata": {},
   "source": [
    "### Adding Potency"
   ]
  },
  {
   "cell_type": "code",
   "execution_count": 37,
   "metadata": {},
   "outputs": [],
   "source": [
    "import pandas as pd\n",
    "\n",
    "# Function to update IC50 values based on the given conditions\n",
    "def update_ic50(value):\n",
    "    if isinstance(value, str):\n",
    "        if value.startswith(\"<\"):\n",
    "            # For \"<\" values, decrease by 0.1\n",
    "            return float(value[1:]) - 0.1\n",
    "        elif value.startswith(\">\"):\n",
    "            # For \">\" values, increase by 0.1\n",
    "            return float(value[1:]) + 0.1\n",
    "    return float(value)  # Ensure that it's a float value\n",
    "\n",
    "# Function to categorize based on IC50 values (output as numeric potency)\n",
    "def categorize_potency(ic50):\n",
    "    if ic50 < 1:\n",
    "        return \"3\"  # Potent\n",
    "    elif 1 <= ic50 < 100:\n",
    "        return \"2\"  # Active\n",
    "    elif 100 <= ic50 < 1000:\n",
    "        return \"1\"  # Intermediate\n",
    "    elif ic50 >= 1000:\n",
    "        return \"0\"  # Inactive\n",
    "    else:\n",
    "        return \"-1\"  # Unknown\n",
    "\n",
    "def update_ic50_in_tsv(input_file, output_file):\n",
    "    # Read the TSV file\n",
    "    df = pd.read_csv(input_file, sep='\\t')\n",
    "\n",
    "    # Update the IC50 column\n",
    "    df['IC50 (nM)'] = df['IC50 (nM)'].apply(update_ic50)\n",
    "\n",
    "    # Add Potency column based on updated IC50 values\n",
    "    df['Potency'] = df['IC50 (nM)'].apply(categorize_potency)\n",
    "\n",
    "    # Save the updated dataframe to a new TSV file\n",
    "    df.to_csv(output_file, sep='\\t', index=False)\n",
    "\n",
    "# Example usage\n",
    "# input_file = './Intermediate_bindingdb/unique_ligands_data_B.tsv'  # Replace with your input TSV file path\n",
    "# output_file = './Intermediate_bindingdb/updated_ic50_with_potency_data_B.tsv'  # Replace with desired output file path\n",
    "\n",
    "# input_file = './Intermediate_bindingdb/unique_ligands_data_S.tsv'  # Replace with your input TSV file path\n",
    "# output_file = './Intermediate_bindingdb/updated_ic50_with_potency_data_S.tsv'  # Replace with desired output file path\n",
    "\n",
    "# input_file = './Intermediate_bindingdb/unique_ligands_data_D.tsv'  # Replace with your input TSV file path\n",
    "# output_file = './Intermediate_bindingdb/updated_ic50_with_potency_data_D.tsv'  # Replace with desired output file path\n",
    "\n",
    "input_file = './Intermediate_bindingdb/unique_ligands_data_K.tsv'  # Replace with your input TSV file path\n",
    "output_file = './Intermediate_bindingdb/updated_ic50_with_potency_data_K.tsv'  # Replace with desired output file path\n",
    "\n",
    "update_ic50_in_tsv(input_file, output_file)\n"
   ]
  },
  {
   "cell_type": "markdown",
   "metadata": {},
   "source": [
    "### Plotting"
   ]
  },
  {
   "cell_type": "code",
   "execution_count": 38,
   "metadata": {},
   "outputs": [
    {
     "data": {
      "image/png": "[encoded data removed]",
      "text/plain": [
       "<Figure size 800x600 with 1 Axes>"
      ]
     },
     "metadata": {},
     "output_type": "display_data"
    }
   ],
   "source": [
    "import pandas as pd\n",
    "import matplotlib.pyplot as plt\n",
    "\n",
    "# Function to categorize based on IC50 values (output as potency categories)\n",
    "def categorize_potency(ic50):\n",
    "    if ic50 < 1:\n",
    "        return \"Potent\"\n",
    "    elif 1 <= ic50 < 100:\n",
    "        return \"Active\"\n",
    "    elif 100 <= ic50 < 1000:\n",
    "        return \"Intermediate\"\n",
    "    elif ic50 >= 1000:\n",
    "        return \"Inactive\"\n",
    "    else:\n",
    "        return \"Unknown\"\n",
    "\n",
    "# Load data from TSV file\n",
    "# input_file = './Intermediate_bindingdb/updated_ic50_with_potency_data_B.tsv'  # Replace with your input TSV file path\n",
    "# input_file = './Intermediate_bindingdb/updated_ic50_with_potency_data_S.tsv'  # Replace with your input TSV file path\n",
    "# input_file = './Intermediate_bindingdb/updated_ic50_with_potency_data_D.tsv'  # Replace with your input TSV file path\n",
    "input_file = './Intermediate_bindingdb/updated_ic50_with_potency_data_K.tsv'  # Replace with your input TSV file path\n",
    "\n",
    "df = pd.read_csv(input_file, sep='\\t')\n",
    "\n",
    "# Add Potency column based on IC50 values\n",
    "df['Potency'] = df['IC50 (nM)'].apply(lambda x: categorize_potency(float(x)))\n",
    "\n",
    "# Count the occurrences of each category\n",
    "potency_counts = df['Potency'].value_counts()\n",
    "\n",
    "# Plotting the count of potency categories\n",
    "plt.figure(figsize=(8, 6))\n",
    "potency_counts.plot(kind='bar', color='skyblue', edgecolor='black')\n",
    "plt.title('Count of Potency Categories', fontsize=14)\n",
    "plt.xlabel('Potency Category', fontsize=12)\n",
    "plt.ylabel('Count', fontsize=12)\n",
    "plt.xticks(rotation=45)\n",
    "plt.tight_layout()\n",
    "plt.show()\n"
   ]
  }
 ],
 "metadata": {
  "kernelspec": {
   "display_name": "ALLCAT",
   "language": "python",
   "name": "python3"
  },
  "language_info": {
   "codemirror_mode": {
    "name": "ipython",
    "version": 3
   },
   "file_extension": ".py",
   "mimetype": "text/x-python",
   "name": "python",
   "nbconvert_exporter": "python",
   "pygments_lexer": "ipython3",
   "version": "3.11.9"
  }
 },
 "nbformat": 4,
 "nbformat_minor": 2
}
