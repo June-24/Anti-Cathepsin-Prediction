{
 "cells": [
  {
   "cell_type": "markdown",
   "metadata": {},
   "source": [
    "## Testing actual data on saved models!"
   ]
  },
  {
   "cell_type": "code",
   "execution_count": 2,
   "metadata": {},
   "outputs": [
    {
     "name": "stderr",
     "output_type": "stream",
     "text": [
      "WARNING:absl:Compiled the loaded model, but the compiled metrics have yet to be built. `model.compile_metrics` will be empty until you train or evaluate the model.\n"
     ]
    },
    {
     "name": "stdout",
     "output_type": "stream",
     "text": [
      "Processing dataset B for prediction...\n",
      "\u001b[1m73/73\u001b[0m \u001b[32m━━━━━━━━━━━━━━━━━━━━\u001b[0m\u001b[37m\u001b[0m \u001b[1m0s\u001b[0m 2ms/step\n",
      "Accuracy on original data for dataset B: 0.9771\n",
      "Classification Report for dataset B:\n",
      "              precision    recall  f1-score   support\n",
      "\n",
      "           0       0.99      0.98      0.99      1733\n",
      "           1       0.94      0.95      0.95       319\n",
      "           2       0.93      0.98      0.95       255\n",
      "           3       0.67      1.00      0.80         6\n",
      "\n",
      "    accuracy                           0.98      2313\n",
      "   macro avg       0.88      0.98      0.92      2313\n",
      "weighted avg       0.98      0.98      0.98      2313\n",
      "\n",
      "Processing dataset S for prediction...\n"
     ]
    },
    {
     "name": "stderr",
     "output_type": "stream",
     "text": [
      "WARNING:absl:Compiled the loaded model, but the compiled metrics have yet to be built. `model.compile_metrics` will be empty until you train or evaluate the model.\n"
     ]
    },
    {
     "name": "stdout",
     "output_type": "stream",
     "text": [
      "\u001b[1m117/117\u001b[0m \u001b[32m━━━━━━━━━━━━━━━━━━━━\u001b[0m\u001b[37m\u001b[0m \u001b[1m0s\u001b[0m 1ms/step\n",
      "Accuracy on original data for dataset S: 0.9186\n",
      "Classification Report for dataset S:\n",
      "              precision    recall  f1-score   support\n",
      "\n",
      "           0       0.93      0.93      0.93       980\n",
      "           1       0.86      0.91      0.88       881\n",
      "           2       0.96      0.90      0.93      1556\n",
      "           3       0.87      0.99      0.93       316\n",
      "\n",
      "    accuracy                           0.92      3733\n",
      "   macro avg       0.91      0.93      0.92      3733\n",
      "weighted avg       0.92      0.92      0.92      3733\n",
      "\n",
      "Processing dataset D for prediction...\n"
     ]
    },
    {
     "name": "stderr",
     "output_type": "stream",
     "text": [
      "WARNING:absl:Compiled the loaded model, but the compiled metrics have yet to be built. `model.compile_metrics` will be empty until you train or evaluate the model.\n"
     ]
    },
    {
     "name": "stdout",
     "output_type": "stream",
     "text": [
      "\u001b[1m129/129\u001b[0m \u001b[32m━━━━━━━━━━━━━━━━━━━━\u001b[0m\u001b[37m\u001b[0m \u001b[1m0s\u001b[0m 1ms/step\n",
      "Accuracy on original data for dataset D: 0.9705\n",
      "Classification Report for dataset D:\n",
      "              precision    recall  f1-score   support\n",
      "\n",
      "           0       0.99      0.97      0.98      3021\n",
      "           1       0.90      0.97      0.93       658\n",
      "           2       0.94      0.96      0.95       408\n",
      "           3       0.71      1.00      0.83        20\n",
      "\n",
      "    accuracy                           0.97      4107\n",
      "   macro avg       0.89      0.98      0.92      4107\n",
      "weighted avg       0.97      0.97      0.97      4107\n",
      "\n",
      "Processing dataset K for prediction...\n"
     ]
    },
    {
     "name": "stderr",
     "output_type": "stream",
     "text": [
      "WARNING:absl:Compiled the loaded model, but the compiled metrics have yet to be built. `model.compile_metrics` will be empty until you train or evaluate the model.\n"
     ]
    },
    {
     "name": "stdout",
     "output_type": "stream",
     "text": [
      "\u001b[1m96/96\u001b[0m \u001b[32m━━━━━━━━━━━━━━━━━━━━\u001b[0m\u001b[37m\u001b[0m \u001b[1m0s\u001b[0m 2ms/step\n",
      "Accuracy on original data for dataset K: 0.9409\n",
      "Classification Report for dataset K:\n",
      "              precision    recall  f1-score   support\n",
      "\n",
      "           0       0.98      0.97      0.98       998\n",
      "           1       0.85      0.96      0.90       556\n",
      "           2       0.98      0.90      0.94      1251\n",
      "           3       0.84      1.00      0.91       258\n",
      "\n",
      "    accuracy                           0.94      3063\n",
      "   macro avg       0.91      0.96      0.93      3063\n",
      "weighted avg       0.95      0.94      0.94      3063\n",
      "\n"
     ]
    }
   ],
   "source": [
    "import pandas as pd\n",
    "import numpy as np\n",
    "from sklearn.preprocessing import MinMaxScaler\n",
    "from sklearn.impute import SimpleImputer\n",
    "from tensorflow.keras.models import load_model\n",
    "from sklearn.metrics import accuracy_score, classification_report\n",
    "\n",
    "# Define input-output file names\n",
    "datasets = {\n",
    "    \"B\": {\"input\": \"./Training_data/input_cathepsin_B.csv\", \"output\": \"./Training_data/output_cathepsin_B.csv\"},\n",
    "    \"S\": {\"input\": \"./Training_data/input_cathepsin_S.csv\", \"output\": \"./Training_data/output_cathepsin_S.csv\"},\n",
    "    \"D\": {\"input\": \"./Training_data/input_cathepsin_D.csv\", \"output\": \"./Training_data/output_cathepsin_D.csv\"},\n",
    "    \"K\": {\"input\": \"./Training_data/input_cathepsin_K.csv\", \"output\": \"./Training_data/output_cathepsin_K.csv\"},\n",
    "}\n",
    "\n",
    "# Function to preprocess data (without augmentation)\n",
    "def preprocess_data(input_path, output_path):\n",
    "    # Load input and output data\n",
    "    input_data = pd.read_csv(input_path, header=None, skiprows=1)\n",
    "    output_data = pd.read_csv(output_path, header=None, skiprows=1)\n",
    "\n",
    "    # Normalize input data\n",
    "    scaler = MinMaxScaler()\n",
    "    input_data_normalized = scaler.fit_transform(input_data)\n",
    "\n",
    "    # Handle NaN values\n",
    "    imputer = SimpleImputer(strategy='mean')\n",
    "    input_data_imputed = imputer.fit_transform(input_data_normalized)\n",
    "\n",
    "    # One-hot encode output data\n",
    "    output_labels = output_data[0].values\n",
    "    output_data_encoded = pd.get_dummies(output_labels, dtype=np.float32).values\n",
    "\n",
    "    # Reshape input data for CNN\n",
    "    input_data_reshaped = input_data_imputed.reshape((input_data_imputed.shape[0], input_data_imputed.shape[1], 1))\n",
    "\n",
    "    return input_data_reshaped, output_data_encoded\n",
    "\n",
    "# Process each dataset without augmentation\n",
    "for key, paths in datasets.items():\n",
    "    print(f\"Processing dataset {key} for prediction...\")\n",
    "\n",
    "    # Preprocess the original data\n",
    "    input_data_original, output_data_original = preprocess_data(paths['input'], paths['output'])\n",
    "\n",
    "    # Load the trained model\n",
    "    model = load_model(f'./Saved_Models/model_{key}.h5')\n",
    "\n",
    "    # Make predictions\n",
    "    predictions = model.predict(input_data_original)\n",
    "    predicted_classes = np.argmax(predictions, axis=1)  # Convert probabilities to class labels\n",
    "    true_classes = np.argmax(output_data_original, axis=1)  # Actual labels\n",
    "\n",
    "    # Compute accuracy\n",
    "    accuracy = accuracy_score(true_classes, predicted_classes)\n",
    "    print(f\"Accuracy on original data for dataset {key}: {accuracy:.4f}\")\n",
    "\n",
    "    # Display classification report\n",
    "    print(f\"Classification Report for dataset {key}:\")\n",
    "    print(classification_report(true_classes, predicted_classes))\n"
   ]
  }
 ],
 "metadata": {
  "kernelspec": {
   "display_name": "ALLCAT",
   "language": "python",
   "name": "python3"
  },
  "language_info": {
   "codemirror_mode": {
    "name": "ipython",
    "version": 3
   },
   "file_extension": ".py",
   "mimetype": "text/x-python",
   "name": "python",
   "nbconvert_exporter": "python",
   "pygments_lexer": "ipython3",
   "version": "3.11.9"
  }
 },
 "nbformat": 4,
 "nbformat_minor": 2
}
